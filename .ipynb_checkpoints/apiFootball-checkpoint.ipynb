{
 "cells": [
  {
   "cell_type": "code",
   "execution_count": null,
   "id": "e24884bd-c4bd-48ce-a9d6-d399add69654",
   "metadata": {},
   "outputs": [],
   "source": [
    "import os\n",
    "current_dir = os.getcwd()\n",
    "current_dir"
   ]
  },
  {
   "cell_type": "code",
   "execution_count": null,
   "id": "0ea646d6-bcfd-44f1-bb52-2aa0bccd05cc",
   "metadata": {},
   "outputs": [],
   "source": [
    "import requests\n",
    "\n",
    "url = \"https://v3.football.api-sports.io/leagues\"\n",
    "\n",
    "payload={}\n",
    "headers = {\n",
    "  'x-rapidapi-key': '0fccb0d395f8f7564bdc7e1db4769922',\n",
    "  'x-rapidapi-host': 'v3.football.api-sports.io'\n",
    "}\n",
    "\n",
    "response = requests.request(\"GET\", url, headers=headers, data=payload)\n",
    "\n",
    "print(response.text)"
   ]
  },
  {
   "cell_type": "code",
   "execution_count": null,
   "id": "5d542028-e12b-4849-a4d6-ffd15ef6c7be",
   "metadata": {},
   "outputs": [],
   "source": [
    "LEAGUES = {\n",
    "    39: \"PL\",\n",
    "    40: \"CH\",\n",
    "    41: \"L1\",\n",
    "    42: \"L2\"\n",
    "}\n",
    "\n",
    "fixtures = []\n",
    "for league_id in LEAGUES.keys():\n",
    "    url = \"https://v3.football.api-sports.io/fixtures\"\n",
    "    params = {\n",
    "        \"league\": league_id,\n",
    "        \"season\": \"2025\",\n",
    "        \"from\": \"2025-01-01\",\n",
    "        \"to\": \"2025-01-20\",\n",
    "    }\n",
    "    response = requests.get(url, headers=headers, params=params)\n",
    "    data = response.json()\n",
    "    if \"response\" in data:\n",
    "        fixtures.extend(data[\"response\"])\n",
    "\n",
    "\n",
    "print(response.text)\n",
    "fixtures"
   ]
  },
  {
   "cell_type": "code",
   "execution_count": 1,
   "id": "f9bf1b6a-7cb7-44a1-8410-4df2b017b983",
   "metadata": {},
   "outputs": [
    {
     "ename": "ImportError",
     "evalue": "cannot import name 'AsyncHTMLSession' from 'requests' (/home/gitpod/.pyenv/versions/3.12.2/lib/python3.12/site-packages/requests/__init__.py)",
     "output_type": "error",
     "traceback": [
      "\u001b[31m---------------------------------------------------------------------------\u001b[39m",
      "\u001b[31mImportError\u001b[39m                               Traceback (most recent call last)",
      "\u001b[36mCell\u001b[39m\u001b[36m \u001b[39m\u001b[32mIn[1]\u001b[39m\u001b[32m, line 1\u001b[39m\n\u001b[32m----> \u001b[39m\u001b[32m1\u001b[39m \u001b[38;5;28;01mfrom\u001b[39;00m\u001b[38;5;250m \u001b[39m\u001b[34;01mrequests\u001b[39;00m\u001b[38;5;250m \u001b[39m\u001b[38;5;28;01mimport\u001b[39;00m AsyncHTMLSession\n\u001b[32m      2\u001b[39m \u001b[38;5;28;01mfrom\u001b[39;00m\u001b[38;5;250m \u001b[39m\u001b[34;01mcollections\u001b[39;00m\u001b[38;5;250m \u001b[39m\u001b[38;5;28;01mimport\u001b[39;00m defaultdict\n\u001b[32m      3\u001b[39m \u001b[38;5;28;01mimport\u001b[39;00m\u001b[38;5;250m \u001b[39m\u001b[34;01mpandas\u001b[39;00m\u001b[38;5;250m \u001b[39m\u001b[38;5;28;01mas\u001b[39;00m\u001b[38;5;250m \u001b[39m\u001b[34;01mpd\u001b[39;00m \n",
      "\u001b[31mImportError\u001b[39m: cannot import name 'AsyncHTMLSession' from 'requests' (/home/gitpod/.pyenv/versions/3.12.2/lib/python3.12/site-packages/requests/__init__.py)"
     ]
    }
   ],
   "source": [
    "from requests_html import AsyncHTMLSession\n",
    "from collections import defaultdict\n",
    "import pandas as pd \n",
    "\n",
    "\n",
    "url = 'https://www.flashscore.com/football/england/league-two/results/'\n",
    "\n",
    "asession = AsyncHTMLSession()\n",
    "\n",
    "async def get_scores():\n",
    "    r = await asession.get(url)\n",
    "    await r.html.arender()\n",
    "    return r\n",
    "\n",
    "results = asession.run(get_scores)\n",
    "results = results[0]\n",
    "\n",
    "times = results.html.find(\"div.event__time\")\n",
    "home_teams = results.html.find(\"div.event__participant.event__participant--home\") \n",
    "scores = results.html.find(\"div.event__scores.fontBold\")\n",
    "away_teams = results.html.find(\"div.event__participant.event__participant--away\")\n",
    "event_part = results.html.find(\"div.event__part\")\n",
    "\n",
    "\n",
    "dict_res = defaultdict(list)\n",
    "\n",
    "for ind in range(len(times)):\n",
    "    dict_res['times'].append(times[ind].text)\n",
    "    dict_res['home_teams'].append(home_teams[ind].text)\n",
    "    dict_res['scores'].append(scores[ind].text)\n",
    "    dict_res['away_teams'].append(away_teams[ind].text)\n",
    "    dict_res['event_part'].append(event_part[ind].text)\n",
    "\n",
    "df_res = pd.DataFrame(dict_res)"
   ]
  },
  {
   "cell_type": "code",
   "execution_count": null,
   "id": "57b89c0e-41c1-4a3a-8ba4-e5a7ab00a3f3",
   "metadata": {},
   "outputs": [],
   "source": []
  }
 ],
 "metadata": {
  "kernelspec": {
   "display_name": "Python 3 (ipykernel)",
   "language": "python",
   "name": "python3"
  },
  "language_info": {
   "codemirror_mode": {
    "name": "ipython",
    "version": 3
   },
   "file_extension": ".py",
   "mimetype": "text/x-python",
   "name": "python",
   "nbconvert_exporter": "python",
   "pygments_lexer": "ipython3",
   "version": "3.12.2"
  }
 },
 "nbformat": 4,
 "nbformat_minor": 5
}
